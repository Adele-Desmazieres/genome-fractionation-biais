{
 "cells": [
  {
   "cell_type": "code",
   "execution_count": 44,
   "metadata": {},
   "outputs": [],
   "source": [
    "import pandas as pd\n",
    "from pprint import pprint\n",
    "import plotly.express as px\n",
    "import plotly.graph_objects as go\n",
    "import plotly as ply\n",
    "from scipy.stats import wilcoxon\n",
    "import numpy as np\n",
    "pd.options.mode.chained_assignment = None\n",
    "\n",
    "IN = \"../../results/iadhore/all/\"\n",
    "OUT = \"../../results/python/\"\n",
    "WINDOW_SIZE = 90 # nombre de gènes dans la fenêtre glissante\n",
    "ANCHORS_MIN = 800\n",
    "ALPHA = 0.05\n",
    "\n"
   ]
  },
  {
   "cell_type": "code",
   "execution_count": 45,
   "metadata": {},
   "outputs": [
    {
     "name": "stdout",
     "output_type": "stream",
     "text": [
      "           genome_x list_x  parent         genome_y list_y  level  \\\n",
      "id                                                                  \n",
      "1   Malus_domestica   Md04     NaN   Prunus_persica   Pp06      2   \n",
      "2   Malus_domestica   Md12     NaN   Prunus_persica   Pp06      2   \n",
      "3   Malus_domestica   Md13     NaN  Malus_domestica   Md16      2   \n",
      "\n",
      "    number_of_anchorpoints  profile_length  begin_x  end_x  begin_y  end_y  \\\n",
      "id                                                                           \n",
      "1                      831            1304      793   2091     2319   3646   \n",
      "2                      797            1310      939   2260     2319   3658   \n",
      "3                      765            1314        0   1337        0   1307   \n",
      "\n",
      "    is_redundant  \n",
      "id                \n",
      "1              0  \n",
      "2              0  \n",
      "3             -1   \n",
      "len: 1202\n"
     ]
    }
   ],
   "source": [
    "\"\"\"\n",
    "Lecture et traitement de la table des multiplicons :\n",
    "id\tgenome_x\tlist_x\tparent\tgenome_y\tlist_y\tlevel\tnumber_of_anchorpoints\tprofile_length\tbegin_x\tend_x\tbegin_y\tend_y\tis_redundant\n",
    "\"\"\"\n",
    "\n",
    "df_multiplicons = pd.read_csv(IN + \"multiplicons.txt\", sep='\\t', index_col='id')\n",
    "print(df_multiplicons[:3], \"\\nlen:\", len(df_multiplicons))\n"
   ]
  },
  {
   "cell_type": "code",
   "execution_count": 46,
   "metadata": {},
   "outputs": [
    {
     "name": "stdout",
     "output_type": "stream",
     "text": [
      "['Md01', 'Md02', 'Md03', 'Md04', 'Md05', 'Md06', 'Md07', 'Md08', 'Md09', 'Md10', 'Md11', 'Md12', 'Md13', 'Md14', 'Md15', 'Md16', 'Md17', 'Pp01', 'Pp02', 'Pp03', 'Pp04', 'Pp05', 'Pp06', 'Pp07', 'Pp08'] \n",
      "\n"
     ]
    },
    {
     "data": {
      "application/vnd.plotly.v1+json": {
       "config": {
        "plotlyServerURL": "https://plot.ly"
       },
       "data": [
        {
         "type": "heatmap",
         "x": [
          "Md01",
          "Md02",
          "Md03",
          "Md04",
          "Md05",
          "Md06",
          "Md07",
          "Md08",
          "Md09",
          "Md10",
          "Md11",
          "Md12",
          "Md13",
          "Md14",
          "Md15",
          "Md16",
          "Md17",
          "Pp01",
          "Pp02",
          "Pp03",
          "Pp04",
          "Pp05",
          "Pp06",
          "Pp07",
          "Pp08"
         ],
         "xgap": 2,
         "y": [
          "Md01",
          "Md02",
          "Md03",
          "Md04",
          "Md05",
          "Md06",
          "Md07",
          "Md08",
          "Md09",
          "Md10",
          "Md11",
          "Md12",
          "Md13",
          "Md14",
          "Md15",
          "Md16",
          "Md17",
          "Pp01",
          "Pp02",
          "Pp03",
          "Pp04",
          "Pp05",
          "Pp06",
          "Pp07",
          "Pp08"
         ],
         "ygap": 2,
         "z": [
          [
           40,
           8,
           62,
           92,
           0,
           85,
           956,
           30,
           0,
           0,
           47,
           71,
           0,
           62,
           162,
           7,
           0,
           42,
           1143,
           0,
           0,
           117,
           347,
           8,
           0
          ],
          [
           8,
           31,
           5,
           11,
           52,
           11,
           405,
           98,
           49,
           64,
           0,
           9,
           0,
           17,
           1018,
           0,
           38,
           166,
           509,
           96,
           0,
           50,
           127,
           916,
           78
          ],
          [
           62,
           5,
           5,
           78,
           42,
           0,
           72,
           0,
           25,
           51,
           1283,
           106,
           43,
           38,
           0,
           50,
           28,
           65,
           73,
           40,
           549,
           0,
           855,
           34,
           240
          ],
          [
           92,
           11,
           78,
           0,
           16,
           106,
           91,
           0,
           0,
           22,
           58,
           728,
           57,
           0,
           0,
           19,
           5,
           241,
           146,
           0,
           0,
           183,
           928,
           22,
           40
          ],
          [
           0,
           52,
           42,
           16,
           22,
           0,
           0,
           46,
           41,
           1436,
           54,
           6,
           30,
           0,
           96,
           26,
           33,
           118,
           0,
           52,
           808,
           0,
           32,
           34,
           939
          ],
          [
           85,
           11,
           0,
           106,
           0,
           5,
           87,
           0,
           75,
           11,
           0,
           0,
           113,
           812,
           5,
           197,
           51,
           129,
           109,
           95,
           0,
           1295,
           0,
           6,
           0
          ],
          [
           956,
           405,
           72,
           91,
           0,
           87,
           36,
           0,
           0,
           0,
           35,
           88,
           0,
           62,
           0,
           0,
           0,
           0,
           1619,
           0,
           0,
           132,
           191,
           23,
           0
          ],
          [
           30,
           98,
           0,
           0,
           46,
           0,
           0,
           11,
           28,
           39,
           0,
           0,
           0,
           0,
           1252,
           0,
           30,
           1291,
           0,
           37,
           0,
           0,
           79,
           107,
           74
          ],
          [
           0,
           49,
           25,
           0,
           41,
           75,
           0,
           28,
           0,
           49,
           19,
           0,
           107,
           78,
           86,
           106,
           1240,
           161,
           0,
           1494,
           113,
           101,
           6,
           65,
           0
          ],
          [
           0,
           64,
           51,
           22,
           1436,
           11,
           0,
           39,
           49,
           0,
           57,
           6,
           17,
           0,
           87,
           17,
           64,
           98,
           0,
           66,
           885,
           6,
           30,
           58,
           941
          ],
          [
           47,
           0,
           1283,
           58,
           54,
           0,
           35,
           0,
           19,
           57,
           6,
           96,
           42,
           30,
           0,
           46,
           27,
           48,
           80,
           38,
           522,
           0,
           868,
           52,
           234
          ],
          [
           71,
           9,
           106,
           728,
           6,
           0,
           88,
           0,
           0,
           6,
           96,
           6,
           30,
           435,
           0,
           6,
           0,
           25,
           124,
           0,
           0,
           10,
           961,
           528,
           20
          ],
          [
           0,
           0,
           43,
           57,
           30,
           113,
           0,
           0,
           107,
           17,
           42,
           30,
           0,
           101,
           0,
           1331,
           77,
           1568,
           0,
           125,
           0,
           153,
           41,
           0,
           72
          ],
          [
           62,
           17,
           38,
           0,
           0,
           812,
           62,
           0,
           78,
           0,
           30,
           435,
           101,
           0,
           0,
           115,
           55,
           128,
           86,
           100,
           0,
           900,
           53,
           488,
           0
          ],
          [
           162,
           1018,
           0,
           0,
           96,
           5,
           0,
           1252,
           86,
           87,
           0,
           0,
           0,
           0,
           166,
           0,
           109,
           1506,
           0,
           133,
           39,
           9,
           363,
           998,
           152
          ],
          [
           7,
           0,
           50,
           19,
           26,
           197,
           0,
           0,
           106,
           17,
           46,
           6,
           1331,
           115,
           0,
           0,
           77,
           1538,
           0,
           128,
           5,
           223,
           56,
           0,
           79
          ],
          [
           0,
           38,
           28,
           5,
           33,
           51,
           0,
           30,
           1240,
           64,
           27,
           0,
           77,
           55,
           109,
           77,
           12,
           149,
           0,
           1468,
           105,
           77,
           7,
           49,
           0
          ],
          [
           42,
           166,
           65,
           241,
           118,
           129,
           0,
           1291,
           161,
           98,
           48,
           25,
           1568,
           128,
           1506,
           1538,
           149,
           0,
           0,
           241,
           0,
           183,
           142,
           185,
           218
          ],
          [
           1143,
           509,
           73,
           146,
           0,
           109,
           1619,
           0,
           0,
           0,
           80,
           124,
           0,
           86,
           0,
           0,
           0,
           0,
           77,
           0,
           0,
           198,
           227,
           49,
           0
          ],
          [
           0,
           96,
           40,
           0,
           52,
           95,
           0,
           37,
           1494,
           66,
           38,
           0,
           125,
           100,
           133,
           128,
           1468,
           241,
           0,
           5,
           147,
           121,
           0,
           106,
           0
          ],
          [
           0,
           0,
           549,
           0,
           808,
           0,
           0,
           0,
           113,
           885,
           522,
           0,
           0,
           0,
           39,
           5,
           105,
           0,
           0,
           147,
           92,
           0,
           0,
           5,
           0
          ],
          [
           117,
           50,
           0,
           183,
           0,
           1295,
           132,
           0,
           101,
           6,
           0,
           10,
           153,
           900,
           9,
           223,
           77,
           183,
           198,
           121,
           0,
           0,
           10,
           6,
           7
          ],
          [
           347,
           127,
           855,
           928,
           32,
           0,
           191,
           79,
           6,
           30,
           868,
           961,
           41,
           53,
           363,
           56,
           7,
           142,
           227,
           0,
           0,
           10,
           119,
           73,
           87
          ],
          [
           8,
           916,
           34,
           22,
           34,
           6,
           23,
           107,
           65,
           58,
           52,
           528,
           0,
           488,
           998,
           0,
           49,
           185,
           49,
           106,
           5,
           6,
           73,
           0,
           82
          ],
          [
           0,
           78,
           240,
           40,
           939,
           0,
           0,
           74,
           0,
           941,
           234,
           20,
           72,
           0,
           152,
           79,
           0,
           218,
           0,
           0,
           0,
           7,
           87,
           82,
           0
          ]
         ]
        }
       ],
       "layout": {
        "height": 600,
        "template": {
         "data": {
          "bar": [
           {
            "error_x": {
             "color": "#2a3f5f"
            },
            "error_y": {
             "color": "#2a3f5f"
            },
            "marker": {
             "line": {
              "color": "#E5ECF6",
              "width": 0.5
             },
             "pattern": {
              "fillmode": "overlay",
              "size": 10,
              "solidity": 0.2
             }
            },
            "type": "bar"
           }
          ],
          "barpolar": [
           {
            "marker": {
             "line": {
              "color": "#E5ECF6",
              "width": 0.5
             },
             "pattern": {
              "fillmode": "overlay",
              "size": 10,
              "solidity": 0.2
             }
            },
            "type": "barpolar"
           }
          ],
          "carpet": [
           {
            "aaxis": {
             "endlinecolor": "#2a3f5f",
             "gridcolor": "white",
             "linecolor": "white",
             "minorgridcolor": "white",
             "startlinecolor": "#2a3f5f"
            },
            "baxis": {
             "endlinecolor": "#2a3f5f",
             "gridcolor": "white",
             "linecolor": "white",
             "minorgridcolor": "white",
             "startlinecolor": "#2a3f5f"
            },
            "type": "carpet"
           }
          ],
          "choropleth": [
           {
            "colorbar": {
             "outlinewidth": 0,
             "ticks": ""
            },
            "type": "choropleth"
           }
          ],
          "contour": [
           {
            "colorbar": {
             "outlinewidth": 0,
             "ticks": ""
            },
            "colorscale": [
             [
              0,
              "#0d0887"
             ],
             [
              0.1111111111111111,
              "#46039f"
             ],
             [
              0.2222222222222222,
              "#7201a8"
             ],
             [
              0.3333333333333333,
              "#9c179e"
             ],
             [
              0.4444444444444444,
              "#bd3786"
             ],
             [
              0.5555555555555556,
              "#d8576b"
             ],
             [
              0.6666666666666666,
              "#ed7953"
             ],
             [
              0.7777777777777778,
              "#fb9f3a"
             ],
             [
              0.8888888888888888,
              "#fdca26"
             ],
             [
              1,
              "#f0f921"
             ]
            ],
            "type": "contour"
           }
          ],
          "contourcarpet": [
           {
            "colorbar": {
             "outlinewidth": 0,
             "ticks": ""
            },
            "type": "contourcarpet"
           }
          ],
          "heatmap": [
           {
            "colorbar": {
             "outlinewidth": 0,
             "ticks": ""
            },
            "colorscale": [
             [
              0,
              "#0d0887"
             ],
             [
              0.1111111111111111,
              "#46039f"
             ],
             [
              0.2222222222222222,
              "#7201a8"
             ],
             [
              0.3333333333333333,
              "#9c179e"
             ],
             [
              0.4444444444444444,
              "#bd3786"
             ],
             [
              0.5555555555555556,
              "#d8576b"
             ],
             [
              0.6666666666666666,
              "#ed7953"
             ],
             [
              0.7777777777777778,
              "#fb9f3a"
             ],
             [
              0.8888888888888888,
              "#fdca26"
             ],
             [
              1,
              "#f0f921"
             ]
            ],
            "type": "heatmap"
           }
          ],
          "heatmapgl": [
           {
            "colorbar": {
             "outlinewidth": 0,
             "ticks": ""
            },
            "colorscale": [
             [
              0,
              "#0d0887"
             ],
             [
              0.1111111111111111,
              "#46039f"
             ],
             [
              0.2222222222222222,
              "#7201a8"
             ],
             [
              0.3333333333333333,
              "#9c179e"
             ],
             [
              0.4444444444444444,
              "#bd3786"
             ],
             [
              0.5555555555555556,
              "#d8576b"
             ],
             [
              0.6666666666666666,
              "#ed7953"
             ],
             [
              0.7777777777777778,
              "#fb9f3a"
             ],
             [
              0.8888888888888888,
              "#fdca26"
             ],
             [
              1,
              "#f0f921"
             ]
            ],
            "type": "heatmapgl"
           }
          ],
          "histogram": [
           {
            "marker": {
             "pattern": {
              "fillmode": "overlay",
              "size": 10,
              "solidity": 0.2
             }
            },
            "type": "histogram"
           }
          ],
          "histogram2d": [
           {
            "colorbar": {
             "outlinewidth": 0,
             "ticks": ""
            },
            "colorscale": [
             [
              0,
              "#0d0887"
             ],
             [
              0.1111111111111111,
              "#46039f"
             ],
             [
              0.2222222222222222,
              "#7201a8"
             ],
             [
              0.3333333333333333,
              "#9c179e"
             ],
             [
              0.4444444444444444,
              "#bd3786"
             ],
             [
              0.5555555555555556,
              "#d8576b"
             ],
             [
              0.6666666666666666,
              "#ed7953"
             ],
             [
              0.7777777777777778,
              "#fb9f3a"
             ],
             [
              0.8888888888888888,
              "#fdca26"
             ],
             [
              1,
              "#f0f921"
             ]
            ],
            "type": "histogram2d"
           }
          ],
          "histogram2dcontour": [
           {
            "colorbar": {
             "outlinewidth": 0,
             "ticks": ""
            },
            "colorscale": [
             [
              0,
              "#0d0887"
             ],
             [
              0.1111111111111111,
              "#46039f"
             ],
             [
              0.2222222222222222,
              "#7201a8"
             ],
             [
              0.3333333333333333,
              "#9c179e"
             ],
             [
              0.4444444444444444,
              "#bd3786"
             ],
             [
              0.5555555555555556,
              "#d8576b"
             ],
             [
              0.6666666666666666,
              "#ed7953"
             ],
             [
              0.7777777777777778,
              "#fb9f3a"
             ],
             [
              0.8888888888888888,
              "#fdca26"
             ],
             [
              1,
              "#f0f921"
             ]
            ],
            "type": "histogram2dcontour"
           }
          ],
          "mesh3d": [
           {
            "colorbar": {
             "outlinewidth": 0,
             "ticks": ""
            },
            "type": "mesh3d"
           }
          ],
          "parcoords": [
           {
            "line": {
             "colorbar": {
              "outlinewidth": 0,
              "ticks": ""
             }
            },
            "type": "parcoords"
           }
          ],
          "pie": [
           {
            "automargin": true,
            "type": "pie"
           }
          ],
          "scatter": [
           {
            "fillpattern": {
             "fillmode": "overlay",
             "size": 10,
             "solidity": 0.2
            },
            "type": "scatter"
           }
          ],
          "scatter3d": [
           {
            "line": {
             "colorbar": {
              "outlinewidth": 0,
              "ticks": ""
             }
            },
            "marker": {
             "colorbar": {
              "outlinewidth": 0,
              "ticks": ""
             }
            },
            "type": "scatter3d"
           }
          ],
          "scattercarpet": [
           {
            "marker": {
             "colorbar": {
              "outlinewidth": 0,
              "ticks": ""
             }
            },
            "type": "scattercarpet"
           }
          ],
          "scattergeo": [
           {
            "marker": {
             "colorbar": {
              "outlinewidth": 0,
              "ticks": ""
             }
            },
            "type": "scattergeo"
           }
          ],
          "scattergl": [
           {
            "marker": {
             "colorbar": {
              "outlinewidth": 0,
              "ticks": ""
             }
            },
            "type": "scattergl"
           }
          ],
          "scattermapbox": [
           {
            "marker": {
             "colorbar": {
              "outlinewidth": 0,
              "ticks": ""
             }
            },
            "type": "scattermapbox"
           }
          ],
          "scatterpolar": [
           {
            "marker": {
             "colorbar": {
              "outlinewidth": 0,
              "ticks": ""
             }
            },
            "type": "scatterpolar"
           }
          ],
          "scatterpolargl": [
           {
            "marker": {
             "colorbar": {
              "outlinewidth": 0,
              "ticks": ""
             }
            },
            "type": "scatterpolargl"
           }
          ],
          "scatterternary": [
           {
            "marker": {
             "colorbar": {
              "outlinewidth": 0,
              "ticks": ""
             }
            },
            "type": "scatterternary"
           }
          ],
          "surface": [
           {
            "colorbar": {
             "outlinewidth": 0,
             "ticks": ""
            },
            "colorscale": [
             [
              0,
              "#0d0887"
             ],
             [
              0.1111111111111111,
              "#46039f"
             ],
             [
              0.2222222222222222,
              "#7201a8"
             ],
             [
              0.3333333333333333,
              "#9c179e"
             ],
             [
              0.4444444444444444,
              "#bd3786"
             ],
             [
              0.5555555555555556,
              "#d8576b"
             ],
             [
              0.6666666666666666,
              "#ed7953"
             ],
             [
              0.7777777777777778,
              "#fb9f3a"
             ],
             [
              0.8888888888888888,
              "#fdca26"
             ],
             [
              1,
              "#f0f921"
             ]
            ],
            "type": "surface"
           }
          ],
          "table": [
           {
            "cells": {
             "fill": {
              "color": "#EBF0F8"
             },
             "line": {
              "color": "white"
             }
            },
            "header": {
             "fill": {
              "color": "#C8D4E3"
             },
             "line": {
              "color": "white"
             }
            },
            "type": "table"
           }
          ]
         },
         "layout": {
          "annotationdefaults": {
           "arrowcolor": "#2a3f5f",
           "arrowhead": 0,
           "arrowwidth": 1
          },
          "autotypenumbers": "strict",
          "coloraxis": {
           "colorbar": {
            "outlinewidth": 0,
            "ticks": ""
           }
          },
          "colorscale": {
           "diverging": [
            [
             0,
             "#8e0152"
            ],
            [
             0.1,
             "#c51b7d"
            ],
            [
             0.2,
             "#de77ae"
            ],
            [
             0.3,
             "#f1b6da"
            ],
            [
             0.4,
             "#fde0ef"
            ],
            [
             0.5,
             "#f7f7f7"
            ],
            [
             0.6,
             "#e6f5d0"
            ],
            [
             0.7,
             "#b8e186"
            ],
            [
             0.8,
             "#7fbc41"
            ],
            [
             0.9,
             "#4d9221"
            ],
            [
             1,
             "#276419"
            ]
           ],
           "sequential": [
            [
             0,
             "#0d0887"
            ],
            [
             0.1111111111111111,
             "#46039f"
            ],
            [
             0.2222222222222222,
             "#7201a8"
            ],
            [
             0.3333333333333333,
             "#9c179e"
            ],
            [
             0.4444444444444444,
             "#bd3786"
            ],
            [
             0.5555555555555556,
             "#d8576b"
            ],
            [
             0.6666666666666666,
             "#ed7953"
            ],
            [
             0.7777777777777778,
             "#fb9f3a"
            ],
            [
             0.8888888888888888,
             "#fdca26"
            ],
            [
             1,
             "#f0f921"
            ]
           ],
           "sequentialminus": [
            [
             0,
             "#0d0887"
            ],
            [
             0.1111111111111111,
             "#46039f"
            ],
            [
             0.2222222222222222,
             "#7201a8"
            ],
            [
             0.3333333333333333,
             "#9c179e"
            ],
            [
             0.4444444444444444,
             "#bd3786"
            ],
            [
             0.5555555555555556,
             "#d8576b"
            ],
            [
             0.6666666666666666,
             "#ed7953"
            ],
            [
             0.7777777777777778,
             "#fb9f3a"
            ],
            [
             0.8888888888888888,
             "#fdca26"
            ],
            [
             1,
             "#f0f921"
            ]
           ]
          },
          "colorway": [
           "#636efa",
           "#EF553B",
           "#00cc96",
           "#ab63fa",
           "#FFA15A",
           "#19d3f3",
           "#FF6692",
           "#B6E880",
           "#FF97FF",
           "#FECB52"
          ],
          "font": {
           "color": "#2a3f5f"
          },
          "geo": {
           "bgcolor": "white",
           "lakecolor": "white",
           "landcolor": "#E5ECF6",
           "showlakes": true,
           "showland": true,
           "subunitcolor": "white"
          },
          "hoverlabel": {
           "align": "left"
          },
          "hovermode": "closest",
          "mapbox": {
           "style": "light"
          },
          "paper_bgcolor": "white",
          "plot_bgcolor": "#E5ECF6",
          "polar": {
           "angularaxis": {
            "gridcolor": "white",
            "linecolor": "white",
            "ticks": ""
           },
           "bgcolor": "#E5ECF6",
           "radialaxis": {
            "gridcolor": "white",
            "linecolor": "white",
            "ticks": ""
           }
          },
          "scene": {
           "xaxis": {
            "backgroundcolor": "#E5ECF6",
            "gridcolor": "white",
            "gridwidth": 2,
            "linecolor": "white",
            "showbackground": true,
            "ticks": "",
            "zerolinecolor": "white"
           },
           "yaxis": {
            "backgroundcolor": "#E5ECF6",
            "gridcolor": "white",
            "gridwidth": 2,
            "linecolor": "white",
            "showbackground": true,
            "ticks": "",
            "zerolinecolor": "white"
           },
           "zaxis": {
            "backgroundcolor": "#E5ECF6",
            "gridcolor": "white",
            "gridwidth": 2,
            "linecolor": "white",
            "showbackground": true,
            "ticks": "",
            "zerolinecolor": "white"
           }
          },
          "shapedefaults": {
           "line": {
            "color": "#2a3f5f"
           }
          },
          "ternary": {
           "aaxis": {
            "gridcolor": "white",
            "linecolor": "white",
            "ticks": ""
           },
           "baxis": {
            "gridcolor": "white",
            "linecolor": "white",
            "ticks": ""
           },
           "bgcolor": "#E5ECF6",
           "caxis": {
            "gridcolor": "white",
            "linecolor": "white",
            "ticks": ""
           }
          },
          "title": {
           "x": 0.05
          },
          "xaxis": {
           "automargin": true,
           "gridcolor": "white",
           "linecolor": "white",
           "ticks": "",
           "title": {
            "standoff": 15
           },
           "zerolinecolor": "white",
           "zerolinewidth": 2
          },
          "yaxis": {
           "automargin": true,
           "gridcolor": "white",
           "linecolor": "white",
           "ticks": "",
           "title": {
            "standoff": 15
           },
           "zerolinecolor": "white",
           "zerolinewidth": 2
          }
         }
        },
        "title": {
         "text": "Heat map of anchor points in chromosomes",
         "x": 0.5
        },
        "width": 600,
        "xaxis": {
         "showgrid": false,
         "side": "top"
        },
        "yaxis": {
         "autorange": "reversed",
         "showgrid": false
        }
       }
      }
     },
     "metadata": {},
     "output_type": "display_data"
    }
   ],
   "source": [
    "\"\"\"Affichage du tableau du nbr de gènes homologues entre chaque chromosome. \"\"\"\n",
    "\n",
    "tmp = pd.concat( [ df_multiplicons['list_x'], df_multiplicons['list_y'] ] )\n",
    "chromosomes = list( pd.unique(tmp)) \n",
    "chromosomes = sorted(chromosomes)\n",
    "print(chromosomes, \"\\n\")\n",
    "\n",
    "table_nb_anchors = [[0 for x in range(len(chromosomes))] for x in range(len(chromosomes))]  # table de 0 de taille n*n \n",
    "#print(table_nb_anchors)\n",
    "\n",
    "# remplissage du nombre de points d'ancres entre chaque chromosome\n",
    "for i in range(len(chromosomes)) :\n",
    "    for j in range(i, len(chromosomes)) :\n",
    "        chr1 = chromosomes[i]\n",
    "        chr2 = chromosomes[j]\n",
    "        \n",
    "        rows = df_multiplicons[ ((df_multiplicons.list_x == chr1) & (df_multiplicons.list_y == chr2)) |\n",
    "            ((df_multiplicons.list_x == chr2) & (df_multiplicons.list_y == chr1)) ]\n",
    "        anchors = rows['number_of_anchorpoints']\n",
    "        total = anchors.values.sum()\n",
    "\n",
    "        table_nb_anchors[i][j] = total\n",
    "        table_nb_anchors[j][i] = total\n",
    "\n",
    "#print((table_nb_anchors))\n",
    "\n",
    "\"\"\"Affichage de la heat map du nombre de gènes semblables par paire de chromosomes\"\"\"\n",
    "heat = go.Heatmap(z=table_nb_anchors,\n",
    "                x=chromosomes,\n",
    "                y=chromosomes,\n",
    "                xgap=2, ygap=2\n",
    "                )\n",
    "layout = go.Layout(title_text=\"Heat map of anchor points in chromosomes\", title_x=0.5, \n",
    "                width=600, height=600,\n",
    "                xaxis_showgrid=False,\n",
    "                yaxis_showgrid=False,\n",
    "                yaxis_autorange='reversed'\n",
    "                )\n",
    "   \n",
    "fig=go.Figure(data=[heat], layout=layout)   \n",
    "fig.update_xaxes(side=\"top\")\n",
    "\n",
    "fig.show()\n",
    "\n",
    "\n"
   ]
  },
  {
   "cell_type": "code",
   "execution_count": 47,
   "metadata": {},
   "outputs": [
    {
     "name": "stdout",
     "output_type": "stream",
     "text": [
      "['Md01', 'Md02', 'Md03', 'Md04', 'Md05', 'Md06', 'Md07', 'Md08', 'Md09', 'Md10', 'Md11', 'Md12', 'Md13', 'Md14', 'Md15', 'Md16', 'Md17']\n",
      "['Pp01', 'Pp02', 'Pp03', 'Pp04', 'Pp05', 'Pp06', 'Pp07', 'Pp08']\n",
      "     PP   MD1   MD2 anchorpoints_1 anchorpoints_2\n",
      "0  Pp01  Md08  Md15           1291           1506\n",
      "1  Pp01  Md13  Md16           1568           1538\n",
      "2  Pp02  Md01  Md07           1143           1619\n",
      "3  Pp03  Md09  Md17           1494           1468\n",
      "4  Pp04  Md05  Md10            808            885\n",
      "5  Pp05  Md06  Md14           1295            900\n",
      "6  Pp06  Md03  Md11            855            868\n",
      "7  Pp06  Md04  Md12            928            961\n",
      "8  Pp07  Md02  Md15            916            998\n",
      "9  Pp08  Md05  Md10            939            941\n"
     ]
    }
   ],
   "source": [
    "\"\"\"Creation de la df des triplets de chromosomes dont le nbr d'ancres est superieur à un seuil\"\"\"\n",
    "MDchr = chromosomes[:17]\n",
    "PPchr = chromosomes[17:]\n",
    "print(MDchr, \"\\n\", PPchr, sep='')\n",
    "\n",
    "df_triplets = pd.DataFrame(columns=['PP', 'MD1', 'MD2', 'anchorpoints_1', 'anchorpoints_2'])\n",
    "\n",
    "\n",
    "\"\"\"Trouve le 3e chr d'un triplet avec les indices des 2 premiers, en respectant le seuil minimum d'ancres avec PP\"\"\"\n",
    "def third_chr(table_nb_anchors, chromosomes, iPP, iMD1) :\n",
    "    # MD2 est le chr dont l'indice est celui de la valeur max dans la table des ancres, dans la ligne de MD1, excluant les PP\n",
    "    max_MD1_MD2 = max(table_nb_anchors[iMD1][:17])\n",
    "    iMD2 = table_nb_anchors[iMD1].index(max_MD1_MD2)\n",
    "    MD2 = chromosomes[iMD2]\n",
    "\n",
    "    if table_nb_anchors[iMD2][iPP] > ANCHORS_MIN : return MD2, iMD2\n",
    "    else : return None, None\n",
    "\n",
    "\"\"\"Remplissage de la df grâce à la table du nombre d'ancres (gènes dupliqués)\"\"\"\n",
    "def remplissage_df_triplets(table_nb_anchors, chromosomes, df) :\n",
    "    for i in range(len(chromosomes)) :\n",
    "        for j in range(i, len(chromosomes)) :\n",
    "\n",
    "            # on conserve uniquement les matchs entre 2 espèces différentes, et supérieur au seuil \n",
    "            if table_nb_anchors[i][j] > ANCHORS_MIN and chromosomes[i][:2] != chromosomes[j][:2] :\n",
    "                PP = chromosomes[i] if chromosomes[i][:2] == \"Pp\" else chromosomes[j]\n",
    "                MD1 = chromosomes[i] if chromosomes[i][:2] == \"Md\" else chromosomes[j]\n",
    "                iMD1 = i if chromosomes[i][:2] == \"Md\" else j # l'indice du chromosome MD1\n",
    "                iPP = i + j - iMD1 # l'indice du chromosome PP\n",
    "                \n",
    "                # on trouve le 3e chromosome du triplet\n",
    "                MD2, iMD2 = third_chr(table_nb_anchors, chromosomes, iPP, iMD1)\n",
    "                if MD2 != None : \n",
    "                    MD = [MD1, MD2]\n",
    "                    MD.sort() # trie MD1 et MD2 par ordre alphabetique, pour simplifier la suppression des triplets en doublons après\n",
    "\n",
    "                    # crée la df d'une ligne et l'ajoute à df_triplets\n",
    "                    row = pd.DataFrame( {'PP':[PP], 'MD1':[MD[0]], 'MD2':[MD[1]], 'anchorpoints_1':[table_nb_anchors[iPP][iMD1]], 'anchorpoints_2':[table_nb_anchors[iPP][iMD2]]} )\n",
    "                    df = pd.concat( [df, row], ignore_index=True, axis=0 )\n",
    "\n",
    "    df.drop_duplicates(subset=['PP', 'MD1', 'MD2'], inplace=True, ignore_index=True) # suppression des triplets en double\n",
    "    df.sort_values('PP', inplace=True, ignore_index=True) # tri par valeurs de chromosome PP\n",
    "    return df\n",
    "\n",
    "\n",
    "df_triplets = remplissage_df_triplets(table_nb_anchors, chromosomes, df_triplets)\n",
    "pprint(df_triplets)\n"
   ]
  },
  {
   "cell_type": "code",
   "execution_count": 48,
   "metadata": {},
   "outputs": [
    {
     "name": "stdout",
     "output_type": "stream",
     "text": [
      "      multiplicon        gene_x            gene_y chr_x chr_y\n",
      "id                                                           \n",
      "1001            2  MD12G1121800  Prupe.6G239600.1  Md12  Pp06\n",
      "1002            2  MD12G1121900  Prupe.6G240600.1  Md12  Pp06\n",
      "1003            2  MD12G1122100  Prupe.6G240500.1  Md12  Pp06\n",
      "1004            2  MD12G1122200  Prupe.6G261400.1  Md12  Pp06\n",
      "1005            2  MD12G1122400  Prupe.6G240400.1  Md12  Pp06\n",
      "1006            2  MD12G1122600  Prupe.6G240300.1  Md12  Pp06\n",
      "1007            2  MD12G1123000  Prupe.6G240200.1  Md12  Pp06\n",
      "1008            2  MD12G1123100  Prupe.6G240100.1  Md12  Pp06\n",
      "1009            2  MD12G1123100  Prupe.6G310800.1  Md12  Pp06\n",
      "1010            2  MD12G1123100  Prupe.6G311300.1  Md12  Pp06\n"
     ]
    }
   ],
   "source": [
    "\"\"\"\n",
    "Lecture et traitement de la table des multiplicon_pairs :\n",
    "id\tmultiplicon\t\tgene_x\tgene_y\tchr_x chr_y\n",
    "\"\"\"\n",
    "\n",
    "df_pairs = pd.read_csv(IN + \"multiplicon_pairs_modified.txt\", sep='\\t', index_col='id')\n",
    "df_pairs.drop(['code'], axis=1, inplace=True) # supprime la colonne 'code'\n",
    "\n",
    "# jointure pour avoir les noms de chromosome de chaque gene\n",
    "df_pairs_chr = df_pairs.join(df_multiplicons[['list_x', 'list_y']], on='multiplicon')\n",
    "df_pairs_chr.rename(columns={'list_x':'chr_x', 'list_y':'chr_y'}, inplace=True)\n",
    "print(df_pairs_chr[1000:1010])\n"
   ]
  },
  {
   "cell_type": "code",
   "execution_count": 49,
   "metadata": {},
   "outputs": [],
   "source": [
    "# construction de la liste des triplets de genes chez les chromosomes du triplet\n",
    "def make_df_genes_triplet(PP, MD1, MD2, df_pairs_chr) :\n",
    "    \n",
    "    # récupération les paires de gènes impliquant au moins un gène de PP\n",
    "    df_PPx = df_pairs_chr[ (df_pairs_chr.chr_x == PP) ] # le gène PP est dans le colonne chr_x\n",
    "    df_PPy = df_pairs_chr[ (df_pairs_chr.chr_y == PP) ] # le gène PP est dans le colonne chr_y\n",
    "    # échange de nom 2 colonnes d'une des deux df pour que tous les gènes du chr PP soient dans la meme colonne y\n",
    "    df_PPx.rename(columns={'gene_x':'gene_y', 'gene_y':'gene_x', 'chr_x':'chr_y', 'chr_y':'chr_x'}, inplace=True)\n",
    "    # concaténation sur la colonne y (le gène PP) des deux df \n",
    "    df_tmp = pd.concat([df_PPy, df_PPx]) \n",
    "\n",
    "    # sélection des paires dont le MD correspond à l'un des 2 chr donnés en arguments \n",
    "    df_MD1 = df_tmp[ (df_tmp.chr_x == MD1) ]\n",
    "    df_MD2 = df_tmp[ (df_tmp.chr_x == MD2) ]\n",
    "\n",
    "    # merge des 2 df, c'est-a-dire réalise une jointure inclusive\n",
    "    df_triplet = pd.merge(df_MD1, df_MD2, on=['gene_y', 'chr_y'], how='outer', indicator=True)\n",
    "    df_triplet = df_triplet.filter({'gene_y', 'gene_x_x', 'gene_x_y'}) # conservation des colonnes des gènes PP MD1 et MD2\n",
    "    df_triplet.rename(columns={'gene_y':'gene_PP', 'gene_x_x':'gene_MD1', 'gene_x_y':'gene_MD2'}, inplace=True) # renomme les colonnes\n",
    "    df_triplet = df_triplet.reindex(columns=['gene_PP', 'gene_MD1', 'gene_MD2']) # réordonne les colonnes\n",
    "    df_triplet.sort_values('gene_PP', inplace=True, ignore_index=True) # trie les lignes par PP croissant, ordonné comme sur le chromosome\n",
    "\n",
    "    #df_triplet.to_csv(OUT + \"tmp_\" + PP + MD1 + MD2 + \".csv\", index=False)\n",
    "\n",
    "    return df_triplet\n",
    "\n",
    "\n"
   ]
  },
  {
   "cell_type": "code",
   "execution_count": 50,
   "metadata": {},
   "outputs": [],
   "source": [
    "\"\"\"Création d'une df mesurant le nombre de gènes conservés à chaque itération de la fenêtre le long du chromosome, pour un bloc de synténie.\n",
    "Par exemple avec window_size = 10 :\n",
    "iteration   MD1_genes   MD1_rate    MD2_genes   MD2_rate \n",
    "1           8           80%         6           60%\n",
    "2           7           70%         4           40%\n",
    "\"\"\"\n",
    "def make_df_fractionation(df_genes) :\n",
    "    # copie les colonnes des genes MD1 et MD2 dans la new df\n",
    "    df_fractionation = pd.DataFrame(dtype=float)\n",
    "    df_fractionation['nb_MD1'] = df_genes['gene_MD1']\n",
    "    df_fractionation['nb_MD2'] = df_genes['gene_MD2']\n",
    "\n",
    "    # remplace tous les noms de genes par la valeur 1 et maintient les NaN tel quel\n",
    "    df_fractionation = df_fractionation.applymap(lambda x: np.nan if pd.isna(x) else 1)\n",
    "\n",
    "    # compte le nb de genes de MD1 dans la fenetre\n",
    "    df_fractionation.nb_MD1 = df_fractionation.nb_MD1.rolling(WINDOW_SIZE, min_periods=0).count()\n",
    "    # compte le nb de genes de MD2 dans la fenetre\n",
    "    df_fractionation.nb_MD2 = df_fractionation.nb_MD2.rolling(WINDOW_SIZE, min_periods=0).count()\n",
    "    \n",
    "    # copies les colonnes de df_genes avant modification \n",
    "    # TO DO : remplacer par un concat des colonnes plus propre ???\n",
    "    df_fractionation['gene_PP'] = df_genes['gene_PP']\n",
    "    df_fractionation['gene_MD1'] = df_genes['gene_MD1']\n",
    "    df_fractionation['gene_MD2'] = df_genes['gene_MD2']\n",
    "\n",
    "    # calcule les pourcentages de conservation des gènes en fonction de la taille de la fenetre\n",
    "    df_fractionation['rate_MD1'] = df_fractionation['nb_MD1'] * 100 / WINDOW_SIZE\n",
    "    df_fractionation['rate_MD2'] = df_fractionation['nb_MD2'] * 100 / WINDOW_SIZE\n",
    "\n",
    "    # réordonne les colonnes\n",
    "    df_fractionation = df_fractionation.reindex(columns=['gene_PP', 'gene_MD1', 'nb_MD1', 'rate_MD1', 'gene_MD2', 'nb_MD2', 'rate_MD2']) \n",
    "\n",
    "    # supprime les premières lignes car la fenêtre dépasse au début du chromosome\n",
    "    #df_fractionation.drop(index=df_fractionation.index[:WINDOW_SIZE], inplace=True)\n",
    "    #df_fractionation.reset_index(inplace=True)\n",
    "\n",
    "    df_fractionation['iteration'] = df_fractionation.index - WINDOW_SIZE + 2 # +1 pour le décalage normal et +1 pour que itération commence à 1 au lieu de 0\n",
    "    # remplace les valeurs de conservation de genes pour les fenetres coupées au début du chromosome\n",
    "    df_fractionation.loc[:WINDOW_SIZE-2, ['rate_MD1', 'nb_MD1', 'rate_MD2', 'nb_MD2', 'iteration']] = np.nan \n",
    "\n",
    "    #print(df_fractionation[:20][['gene_MD1', 'nb_MD1', 'rate_MD1', 'iteration']])\n",
    "    return df_fractionation\n",
    "\n"
   ]
  },
  {
   "cell_type": "code",
   "execution_count": 51,
   "metadata": {},
   "outputs": [],
   "source": [
    "\"\"\"Affiche le graphique du taux de conservation de genes au sein de 2 chromosomes dupliqués\"\"\"\n",
    "def display_graph_fractionation(df_fractionation, triplet) :\n",
    "\n",
    "    #FONCTIONNEL\n",
    "    fig = px.line(df_fractionation, x='iteration', y=['rate_MD1', 'rate_MD2'])\n",
    "    fig.update_layout(xaxis_title=\"window (size = \" + str(WINDOW_SIZE) + \") iteration along \" + triplet.get(\"PP\"),\n",
    "                    yaxis_title=\"genome conservation rate (%)\",\n",
    "                    title=\"Fractionation biais between \" + triplet.get(\"MD1\") + \" and \" + triplet.get(\"MD2\"),\n",
    "                    xaxis_range=[0, len(df_fractionation)],\n",
    "                    yaxis_range=[-1, 101] )\n",
    "    \n",
    "\n",
    "    fig.write_html(OUT + triplet.get(\"MD1\") + \"_\" + triplet.get(\"MD2\") + \"_\" + triplet.get(\"PP\")+\".html\")\n",
    "    fig.show()\n",
    "\n"
   ]
  },
  {
   "cell_type": "code",
   "execution_count": 52,
   "metadata": {},
   "outputs": [],
   "source": [
    "\"\"\"Parcourt la liste des triplets de chromosomes pour en faire des graphes de biais de fractionnement\"\"\"\n",
    "def analysis_each_triplet(df_triplets) :\n",
    "    for triplet in df_triplets.to_dict('records') :\n",
    "       analysis_one_triplet(triplet)\n",
    "\n",
    "def analysis_one_triplet(triplet) :\n",
    "    # traitement des données\n",
    "    df_genes_triplet = pd.DataFrame()\n",
    "    df_genes_triplet = make_df_genes_triplet(triplet.get('PP'), triplet.get('MD1'), triplet.get('MD2'), df_pairs_chr)\n",
    "    df_fractionation = make_df_fractionation(df_genes_triplet)\n",
    "\n",
    "    # affichage des données\n",
    "    df_display = df_fractionation.dropna(subset=['rate_MD1', 'rate_MD2'])\n",
    "    print(triplet)\n",
    "    #print(df_display)\n",
    "    interpretation_test(df_display)\n",
    "    display_graph_fractionation(df_display, triplet)\n",
    "\n",
    "def interpretation_test(df_display) :\n",
    "    res = wilcoxon(df_display['rate_MD1'], df_display['rate_MD2'])\n",
    "    print(res)\n",
    "    if (res.pvalue < ALPHA) : print(\"Test significatif : on mesure un biais de fractionnement au risque alpha=\", ALPHA, \". \", sep='')\n",
    "    else : print(\"Test non significatif : on ne mesure pas de biais de fractionnement. \")\n"
   ]
  },
  {
   "cell_type": "code",
   "execution_count": 53,
   "metadata": {},
   "outputs": [
    {
     "name": "stdout",
     "output_type": "stream",
     "text": [
      "{'PP': 'Pp03', 'MD1': 'Md09', 'MD2': 'Md17', 'anchorpoints_1': 1494, 'anchorpoints_2': 1468}\n",
      "WilcoxonResult(statistic=591308.5, pvalue=5.05149965090511e-41)\n"
     ]
    },
    {
     "ename": "TypeError",
     "evalue": "'<' not supported between instances of 'WilcoxonResult' and 'float'",
     "output_type": "error",
     "traceback": [
      "\u001b[0;31m---------------------------------------------------------------------------\u001b[0m",
      "\u001b[0;31mTypeError\u001b[0m                                 Traceback (most recent call last)",
      "\u001b[1;32m/home/adesmaziere/mnt/partage/genome-fractionation-biais/scripts/python/main.ipynb Cell 10'\u001b[0m in \u001b[0;36m<cell line: 9>\u001b[0;34m()\u001b[0m\n\u001b[1;32m      <a href='vscode-notebook-cell:/home/adesmaziere/mnt/partage/genome-fractionation-biais/scripts/python/main.ipynb#ch0000009?line=7'>8</a>\u001b[0m \u001b[39m\"\"\"MAIN\"\"\"\u001b[39;00m\n\u001b[1;32m      <a href='vscode-notebook-cell:/home/adesmaziere/mnt/partage/genome-fractionation-biais/scripts/python/main.ipynb#ch0000009?line=8'>9</a>\u001b[0m \u001b[39mif\u001b[39;00m \u001b[39m__name__\u001b[39m\u001b[39m==\u001b[39m\u001b[39m\"\u001b[39m\u001b[39m__main__\u001b[39m\u001b[39m\"\u001b[39m :\n\u001b[1;32m     <a href='vscode-notebook-cell:/home/adesmaziere/mnt/partage/genome-fractionation-biais/scripts/python/main.ipynb#ch0000009?line=9'>10</a>\u001b[0m     \n\u001b[1;32m     <a href='vscode-notebook-cell:/home/adesmaziere/mnt/partage/genome-fractionation-biais/scripts/python/main.ipynb#ch0000009?line=10'>11</a>\u001b[0m     \u001b[39m# lance l'analyse de tous les triplets trouvés selon le nbr de gènes similaires\u001b[39;00m\n\u001b[1;32m     <a href='vscode-notebook-cell:/home/adesmaziere/mnt/partage/genome-fractionation-biais/scripts/python/main.ipynb#ch0000009?line=11'>12</a>\u001b[0m     \u001b[39m#analysis_each_triplet(df_triplets)\u001b[39;00m\n\u001b[1;32m     <a href='vscode-notebook-cell:/home/adesmaziere/mnt/partage/genome-fractionation-biais/scripts/python/main.ipynb#ch0000009?line=12'>13</a>\u001b[0m \n\u001b[1;32m     <a href='vscode-notebook-cell:/home/adesmaziere/mnt/partage/genome-fractionation-biais/scripts/python/main.ipynb#ch0000009?line=13'>14</a>\u001b[0m     \u001b[39m# lance l'analyse d'un triplet\u001b[39;00m\n\u001b[0;32m---> <a href='vscode-notebook-cell:/home/adesmaziere/mnt/partage/genome-fractionation-biais/scripts/python/main.ipynb#ch0000009?line=14'>15</a>\u001b[0m     test(df_triplets, \u001b[39m\"\u001b[39;49m\u001b[39mPp03\u001b[39;49m\u001b[39m\"\u001b[39;49m)\n",
      "\u001b[1;32m/home/adesmaziere/mnt/partage/genome-fractionation-biais/scripts/python/main.ipynb Cell 10'\u001b[0m in \u001b[0;36mtest\u001b[0;34m(df_triplets, PP)\u001b[0m\n\u001b[1;32m      <a href='vscode-notebook-cell:/home/adesmaziere/mnt/partage/genome-fractionation-biais/scripts/python/main.ipynb#ch0000009?line=1'>2</a>\u001b[0m \u001b[39mdef\u001b[39;00m \u001b[39mtest\u001b[39m(df_triplets, PP) :\n\u001b[1;32m      <a href='vscode-notebook-cell:/home/adesmaziere/mnt/partage/genome-fractionation-biais/scripts/python/main.ipynb#ch0000009?line=3'>4</a>\u001b[0m     triplet \u001b[39m=\u001b[39m (df_triplets[ df_triplets\u001b[39m.\u001b[39mPP \u001b[39m==\u001b[39m PP ])\u001b[39m.\u001b[39mto_dict(\u001b[39m'\u001b[39m\u001b[39mrecords\u001b[39m\u001b[39m'\u001b[39m)[\u001b[39m0\u001b[39m]\n\u001b[0;32m----> <a href='vscode-notebook-cell:/home/adesmaziere/mnt/partage/genome-fractionation-biais/scripts/python/main.ipynb#ch0000009?line=4'>5</a>\u001b[0m     analysis_one_triplet(triplet)\n",
      "\u001b[1;32m/home/adesmaziere/mnt/partage/genome-fractionation-biais/scripts/python/main.ipynb Cell 9'\u001b[0m in \u001b[0;36manalysis_one_triplet\u001b[0;34m(triplet)\u001b[0m\n\u001b[1;32m     <a href='vscode-notebook-cell:/home/adesmaziere/mnt/partage/genome-fractionation-biais/scripts/python/main.ipynb#ch0000008?line=13'>14</a>\u001b[0m \u001b[39mprint\u001b[39m(triplet)\n\u001b[1;32m     <a href='vscode-notebook-cell:/home/adesmaziere/mnt/partage/genome-fractionation-biais/scripts/python/main.ipynb#ch0000008?line=14'>15</a>\u001b[0m \u001b[39m#print(df_display)\u001b[39;00m\n\u001b[0;32m---> <a href='vscode-notebook-cell:/home/adesmaziere/mnt/partage/genome-fractionation-biais/scripts/python/main.ipynb#ch0000008?line=15'>16</a>\u001b[0m interpretation_test(df_display)\n\u001b[1;32m     <a href='vscode-notebook-cell:/home/adesmaziere/mnt/partage/genome-fractionation-biais/scripts/python/main.ipynb#ch0000008?line=16'>17</a>\u001b[0m display_graph_fractionation(df_display, triplet)\n",
      "\u001b[1;32m/home/adesmaziere/mnt/partage/genome-fractionation-biais/scripts/python/main.ipynb Cell 9'\u001b[0m in \u001b[0;36minterpretation_test\u001b[0;34m(df_display)\u001b[0m\n\u001b[1;32m     <a href='vscode-notebook-cell:/home/adesmaziere/mnt/partage/genome-fractionation-biais/scripts/python/main.ipynb#ch0000008?line=19'>20</a>\u001b[0m res \u001b[39m=\u001b[39m wilcoxon(df_display[\u001b[39m'\u001b[39m\u001b[39mrate_MD1\u001b[39m\u001b[39m'\u001b[39m], df_display[\u001b[39m'\u001b[39m\u001b[39mrate_MD2\u001b[39m\u001b[39m'\u001b[39m])\n\u001b[1;32m     <a href='vscode-notebook-cell:/home/adesmaziere/mnt/partage/genome-fractionation-biais/scripts/python/main.ipynb#ch0000008?line=20'>21</a>\u001b[0m \u001b[39mprint\u001b[39m(res)\n\u001b[0;32m---> <a href='vscode-notebook-cell:/home/adesmaziere/mnt/partage/genome-fractionation-biais/scripts/python/main.ipynb#ch0000008?line=21'>22</a>\u001b[0m \u001b[39mif\u001b[39;00m (res \u001b[39m<\u001b[39;49m ALPHA) : \u001b[39mprint\u001b[39m(\u001b[39m\"\u001b[39m\u001b[39mTest significatif : on mesure un biais de fractionnement au risque alpha=\u001b[39m\u001b[39m\"\u001b[39m, ALPHA, \u001b[39m\"\u001b[39m\u001b[39m. \u001b[39m\u001b[39m\"\u001b[39m, sep\u001b[39m=\u001b[39m\u001b[39m'\u001b[39m\u001b[39m'\u001b[39m)\n\u001b[1;32m     <a href='vscode-notebook-cell:/home/adesmaziere/mnt/partage/genome-fractionation-biais/scripts/python/main.ipynb#ch0000008?line=22'>23</a>\u001b[0m \u001b[39melse\u001b[39;00m : \u001b[39mprint\u001b[39m(\u001b[39m\"\u001b[39m\u001b[39mTest non significatif : on ne mesure pas de biais de fractionnement. \u001b[39m\u001b[39m\"\u001b[39m)\n",
      "\u001b[0;31mTypeError\u001b[0m: '<' not supported between instances of 'WilcoxonResult' and 'float'"
     ]
    }
   ],
   "source": [
    "\"\"\"test pour le premier triplet de la df contenant PP comme chromosome\"\"\"\n",
    "def test(df_triplets, PP) :\n",
    "\n",
    "    triplet = (df_triplets[ df_triplets.PP == PP ]).to_dict('records')[0]\n",
    "    analysis_one_triplet(triplet)\n",
    "\n",
    "\n",
    "\"\"\"MAIN\"\"\"\n",
    "if __name__==\"__main__\" :\n",
    "    \n",
    "    # lance l'analyse de tous les triplets trouvés selon le nbr de gènes similaires\n",
    "    #analysis_each_triplet(df_triplets)\n",
    "\n",
    "    # lance l'analyse d'un triplet\n",
    "    test(df_triplets, \"Pp03\")"
   ]
  }
 ],
 "metadata": {
  "interpreter": {
   "hash": "31f2aee4e71d21fbe5cf8b01ff0e069b9275f58929596ceb00d14d90e3e16cd6"
  },
  "kernelspec": {
   "display_name": "Python 3.9.2 64-bit",
   "language": "python",
   "name": "python3"
  },
  "language_info": {
   "codemirror_mode": {
    "name": "ipython",
    "version": 3
   },
   "file_extension": ".py",
   "mimetype": "text/x-python",
   "name": "python",
   "nbconvert_exporter": "python",
   "pygments_lexer": "ipython3",
   "version": "3.9.2"
  },
  "orig_nbformat": 4
 },
 "nbformat": 4,
 "nbformat_minor": 2
}
